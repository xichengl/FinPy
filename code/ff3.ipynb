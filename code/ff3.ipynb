{
 "cells": [
  {
   "cell_type": "markdown",
   "metadata": {},
   "source": [
    "## Fama French 3 Factor Model"
   ]
  },
  {
   "cell_type": "code",
   "execution_count": 1,
   "metadata": {},
   "outputs": [],
   "source": [
    "from _config import *"
   ]
  },
  {
   "cell_type": "markdown",
   "metadata": {},
   "source": [
    "### 1. CompuStat"
   ]
  },
  {
   "cell_type": "code",
   "execution_count": 2,
   "metadata": {},
   "outputs": [
    {
     "name": "stdout",
     "output_type": "stream",
     "text": [
      "Loading library list...\n",
      "Done\n"
     ]
    }
   ],
   "source": [
    "db = wrds.Connection(wrds_username = wrds_id)\n",
    "comp = db.raw_sql(''' \n",
    "    select gvkey, datadate, seq, txditc, pstkrv, pstkl, pstk\n",
    "    from comp.funda\n",
    "    where consol = 'C' and popsrc = 'D' and datafmt = 'STD' and indfmt = 'INDL' \n",
    "        and datadate >= '01/01/1959'\n",
    "    ''',\n",
    "    date_cols = ['datadate']\n",
    ")\n",
    "\n",
    "comp['year'] = comp['datadate'].dt.year"
   ]
  },
  {
   "cell_type": "code",
   "execution_count": 3,
   "metadata": {},
   "outputs": [],
   "source": [
    "# Preferred stock\n",
    "comp['ps'] = np.where( comp['pstkrv'].isnull(), comp['pstkl'], comp['pstkrv'] )\n",
    "comp['ps'] = np.where( comp['ps'].isnull(), comp['pstk'], comp['ps'] )\n",
    "comp['ps'] = comp['ps'].fillna(0)\n",
    "comp['txditc'] = comp['txditc'].fillna(0)\n",
    "\n",
    "# Book equity\n",
    "comp['be'] = comp['seq'] + comp['txditc'] - comp['ps']\n",
    "comp.loc[comp['be'] <= 0, 'be'] = np.nan # Do NOT use pd.NA, it will convert be to object\n",
    "\n",
    "# Number of years in Compustat\n",
    "comp = comp.sort_values(['gvkey','datadate']).reset_index(drop = True)\n",
    "comp['count'] = comp.groupby('gvkey').cumcount()\n",
    "comp = comp[['gvkey','datadate','year','be','count']]"
   ]
  },
  {
   "cell_type": "markdown",
   "metadata": {},
   "source": [
    "### 2. CRSP"
   ]
  },
  {
   "cell_type": "code",
   "execution_count": 4,
   "metadata": {},
   "outputs": [
    {
     "name": "stdout",
     "output_type": "stream",
     "text": [
      "Loading library list...\n",
      "Done\n"
     ]
    }
   ],
   "source": [
    "db = wrds.Connection(wrds_username = wrds_id)\n",
    "crsp = db.raw_sql('''\n",
    "    select a.permno::int, a.permco::int, a.date, a.prc, a.ret, a.retx, a.shrout, \n",
    "        b.shrcd::int, b.exchcd::int\n",
    "    from crsp.msf as a \n",
    "    left join crsp.msenames as b \n",
    "        on a.permno = b.permno\n",
    "        and b.namedt <= a.date\n",
    "        and a.date <= b.nameendt\n",
    "    where a.date >= '01/01/1959' \n",
    "        and b.shrcd in (10, 11)\n",
    "        and b.exchcd between 1 and 3\n",
    "    ''', \n",
    "    date_cols = ['date']\n",
    ")\n",
    "\n",
    "crsp['date'] += MonthEnd(0)\n",
    "\n",
    "# Add delisting return\n",
    "dlret = db.raw_sql('select permno::int, dlret, dlstdt as date from crsp.msedelist', date_cols = ['date'])\n",
    "\n",
    "dlret['date'] += MonthEnd(0)"
   ]
  },
  {
   "cell_type": "code",
   "execution_count": 5,
   "metadata": {},
   "outputs": [],
   "source": [
    "crsp = crsp.merge(dlret, on = ['permno','date'], how = 'left')\n",
    "crsp['ret'] = crsp['ret'].fillna(0)\n",
    "crsp['dlret'] = crsp['dlret'].fillna(0)\n",
    "\n",
    "# Retadj factors in the delisting return\n",
    "crsp['retadj'] = (1 + crsp['ret']) * (1 + crsp['dlret']) - 1\n",
    "\n",
    "# Market equity in millions\n",
    "crsp['me'] = crsp['prc'].abs() * crsp['shrout'] / 1e3\n",
    "\n",
    "crsp = crsp.drop(columns = ['dlret','prc','shrout']).sort_values(['date','permco','me']).reset_index(drop = True)\n",
    "\n",
    "# Sum of me at company level\n",
    "crsp['Tme'] = crsp.groupby(['date','permco'])['me'].transform('sum')\n",
    "crsp['me_max'] = crsp.groupby(['date','permco'])['me'].transform('max')\n",
    "\n",
    "# Keep the permno with the largest market equity\n",
    "crsp = crsp.query('me == me_max').drop(columns = ['me','me_max']).rename(columns = {'Tme': 'me'}).sort_values(['permno','date']).reset_index(drop = True)"
   ]
  },
  {
   "cell_type": "code",
   "execution_count": 6,
   "metadata": {},
   "outputs": [],
   "source": [
    "# Keep December ME\n",
    "crsp['year'] = crsp['date'].dt.year\n",
    "crsp['month'] = crsp['date'].dt.month  \n",
    "dec = crsp.query('month == 12')[['permno','date','me','year']].rename(columns = {'me': 'dec_me'}).reset_index(drop = True)\n",
    "dec['year'] += 1\n",
    "\n",
    "# July to June dates\n",
    "crsp['ffdate'] = crsp['date'] + MonthEnd(-6)\n",
    "crsp['ffyear'] = crsp['ffdate'].dt.year\n",
    "crsp['ffmonth'] = crsp['ffdate'].dt.month"
   ]
  },
  {
   "cell_type": "code",
   "execution_count": 7,
   "metadata": {},
   "outputs": [],
   "source": [
    "# Cumulative return\n",
    "crsp = crsp.sort_values(['permno','date']).reset_index(drop = True)\n",
    "\n",
    "crsp['g_retx'] = 1 + crsp['retx']\n",
    "crsp['cumretx'] = crsp.groupby(['permno','ffyear'])['g_retx'].cumprod()\n",
    "# crsp['cumretx_l1'] = crsp.groupby('permno')['cumretx'].shift(1)\n",
    "\n",
    "crsp['me_l1'] = crsp.groupby('permno')['me'].shift(1) \n",
    "crsp['count'] = crsp.groupby('permno').cumcount()\n",
    "\n",
    "crsp['me_l1'] = crsp['me_l1'].mask(crsp['count'] == 0, crsp['me'] / crsp['g_retx'])\n",
    "\n",
    "# base = crsp.query('ffmonth == 1')[['permno','ffyear','me_l1']].rename(columns = {'me_l1': 'me_base'}).reset_index(drop = True)\n",
    "# crsp = crsp.merge(base, on = ['permno','ffyear'], how = 'left')\n",
    "# crsp['wt'] = np.where( crsp['ffmonth'] == 1, crsp['me_base'], crsp['me_base'] * crsp['cumretx_l1'] )\n",
    "\n",
    "# Information as of June\n",
    "june = crsp.query('month == 6').merge(dec[['permno','year','dec_me']], on = ['permno','year'])[['permno','date','exchcd','me','dec_me']].reset_index(drop = True)"
   ]
  },
  {
   "cell_type": "markdown",
   "metadata": {},
   "source": [
    "### 3. CCM"
   ]
  },
  {
   "cell_type": "code",
   "execution_count": 8,
   "metadata": {},
   "outputs": [
    {
     "name": "stdout",
     "output_type": "stream",
     "text": [
      "Loading library list...\n",
      "Done\n"
     ]
    }
   ],
   "source": [
    "db = wrds.Connection(wrds_username = wrds_id)\n",
    "ccm = db.raw_sql('''\n",
    "    select gvkey, lpermno::int as permno, linkdt as fdate, linkenddt as ldate\n",
    "    from crsp.ccmxpf_linktable \n",
    "    where substr(linktype, 1, 1) = 'L'\n",
    "        and linkprim in ('P', 'C')\n",
    "    ''', \n",
    "    date_cols=['fdate','ldate']\n",
    ")\n",
    "\n",
    "# Fill linkenddt missing value with today's date\n",
    "ccm['ldate'] = ccm['ldate'].fillna(pd.to_datetime(datetime.date.today()))\n",
    "\n",
    "ccm['fdate'] = ccm.groupby(['gvkey','permno'])['fdate'].transform('min')\n",
    "ccm['ldate'] = ccm.groupby(['gvkey','permno'])['ldate'].transform('max')\n",
    "ccm = ccm.drop_duplicates(subset = ['gvkey','permno']).reset_index(drop = True)\n",
    "\n",
    "# NOTE: 1 permno to N gvkey; 1 gvkey to N permno"
   ]
  },
  {
   "cell_type": "code",
   "execution_count": 9,
   "metadata": {},
   "outputs": [],
   "source": [
    "# Sanity check\n",
    "comp = comp.merge(ccm, on = 'gvkey', how = 'left')\n",
    "\n",
    "comp['eoy'] = comp['datadate'] + YearEnd(0)\n",
    "comp['date'] = comp['eoy'] + MonthEnd(6)\n",
    "\n",
    "comp = comp.query('fdate <= date <= ldate')[['gvkey','permno','datadate','eoy','date','be','count']].reset_index(drop = True)\n",
    "\n",
    "comp['permno'] = comp['permno'].astype(int)"
   ]
  },
  {
   "cell_type": "markdown",
   "metadata": {},
   "source": [
    "### 4. Assign Portfolios"
   ]
  },
  {
   "cell_type": "code",
   "execution_count": 10,
   "metadata": {},
   "outputs": [],
   "source": [
    "# Link comp and crsp\n",
    "june = june.merge(comp, on = ['permno','date'])\n",
    "june['be_me'] = june['be'] / june['dec_me']\n",
    "\n",
    "# NYSE breakpoints\n",
    "nyse = june.query('exchcd == 1 & be_me > 0 & me > 0 & count >= 1').sort_values(['permno','date']).reset_index(drop = True)\n",
    "\n",
    "cf_size = get_cutoff(nyse, signal = 'me', group = 'date')[['date','q50']].rename(columns = {'q50': 'me_median'})\n",
    "\n",
    "cf_value = get_cutoff(nyse, signal = 'be_me', group = 'date')[['date','q30','q70']].rename(columns = {'q30': 'value_lq', 'q70': 'value_uq'})\n",
    "\n",
    "cf = cf_size.merge(cf_value, on = 'date')"
   ]
  },
  {
   "cell_type": "code",
   "execution_count": 11,
   "metadata": {},
   "outputs": [],
   "source": [
    "def assign_size(row):\n",
    "    if row['me'] < row['me_median']:\n",
    "        return 'S'\n",
    "    elif row['me'] >= row['me_median']:\n",
    "        return 'B'\n",
    "    else:\n",
    "        return pd.NA\n",
    "\n",
    "def assign_value(row):\n",
    "    if row['be_me'] <= row['value_lq']:\n",
    "        return 'L'\n",
    "    elif row['value_lq'] < row['be_me'] < row['value_uq']:\n",
    "        return 'M'\n",
    "    elif row['be_me'] >= row['value_uq']:\n",
    "        return 'H'\n",
    "    else:\n",
    "        return pd.NA"
   ]
  },
  {
   "cell_type": "code",
   "execution_count": 12,
   "metadata": {},
   "outputs": [],
   "source": [
    "june = june.merge(cf, on = 'date', how = 'left')\n",
    "\n",
    "# Positive book-to-market\n",
    "mask = (june['be_me'] > 0) & (june['me'] > 0) & (june['count'] >= 1)\n",
    "june.loc[mask, 'flag_pos_bm'] = 1 \n",
    "\n",
    "# Assign size and value portfolios\n",
    "mask = (june['flag_pos_bm'] == 1) \n",
    "june.loc[mask, 'size_bucket'] = june.loc[mask].apply(assign_size, axis = 1)\n",
    "june.loc[mask, 'value_bucket'] = june.loc[mask].apply(assign_value, axis = 1)\n",
    "\n",
    "june = june[['permno','date','size_bucket','value_bucket','flag_pos_bm']].assign(ffyear = lambda x: x['date'].dt.year).drop(columns = 'date')"
   ]
  },
  {
   "cell_type": "code",
   "execution_count": 13,
   "metadata": {},
   "outputs": [],
   "source": [
    "port = crsp[['permno','date','ffyear','retadj','me','me_l1']].merge(june, on = ['permno','ffyear'], how = 'left')\n",
    "\n",
    "port = port.query('me_l1 > 0 & flag_pos_bm == 1 & value_bucket.notnull()').sort_values(['permno','date']).reset_index(drop = True)\n",
    "\n",
    "port['wt'] = port['me_l1'] / port.groupby(['date','size_bucket','value_bucket'])['me_l1'].transform('sum')\n",
    "\n",
    "port['vwret'] = port['wt'] * port['retadj']\n",
    "\n",
    "ff_factors = port.groupby(['date','size_bucket','value_bucket'], as_index = False).agg(vwret = ('vwret','sum'))\n",
    "\n",
    "ff_factors['two_way'] = ff_factors['size_bucket'] + ff_factors['value_bucket']\n",
    "\n",
    "ff_factors = pd.pivot_table(ff_factors, index = 'date', columns = 'two_way', values = 'vwret').reset_index()\n",
    "ff_factors.columns.name = None"
   ]
  },
  {
   "cell_type": "code",
   "execution_count": 14,
   "metadata": {},
   "outputs": [
    {
     "name": "stdout",
     "output_type": "stream",
     "text": [
      "nrow: 762\n"
     ]
    }
   ],
   "source": [
    "ff_factors['_H'] = (ff_factors['BH'] + ff_factors['SH']) / 2\n",
    "ff_factors['_L'] = (ff_factors['BL'] + ff_factors['SL']) / 2\n",
    "ff_factors['HML'] = ff_factors['_H'] - ff_factors['_L']\n",
    "\n",
    "ff_factors['_B'] = (ff_factors['BL'] + ff_factors['BM'] + ff_factors['BH']) / 3\n",
    "ff_factors['_S'] = (ff_factors['SL'] + ff_factors['SM'] + ff_factors['SH']) / 3\n",
    "ff_factors['SMB'] = ff_factors['_S'] - ff_factors['_B']\n",
    "\n",
    "print(f'nrow: {ff_factors.shape[0]:,}')"
   ]
  },
  {
   "cell_type": "code",
   "execution_count": 15,
   "metadata": {},
   "outputs": [],
   "source": [
    "sub = ff_factors.copy() # [ff_factors['date']>= '2008-01-01']\n",
    "sub['g_value'] = sub['HML'] + 1\n",
    "sub['cumret_value'] = sub['g_value'].cumprod()"
   ]
  },
  {
   "cell_type": "code",
   "execution_count": 16,
   "metadata": {},
   "outputs": [
    {
     "data": {
      "image/png": "[encoded data removed]",
      "text/plain": [
       "<Figure size 1000x600 with 1 Axes>"
      ]
     },
     "metadata": {},
     "output_type": "display_data"
    }
   ],
   "source": [
    "f, ax = plt.subplots(figsize = (10, 6))\n",
    "\n",
    "sns.lineplot(data = sub, x = 'date', y = 'cumret_value', ax = ax)\n",
    "\n",
    "ax.set_xlabel(None)\n",
    "ax.set_ylabel('Growth Strategy - Cumulative Wealth', fontsize = 12, fontweight = 'bold', labelpad = 10)\n",
    "\n",
    "# ax.xaxis.set_major_formatter(mdates.DateFormatter(r'%Y %b'))\n",
    "ax.yaxis.set_major_formatter(mticker.FuncFormatter(lambda x, _: f'${x:.1f}'))\n",
    "\n",
    "plt.show()"
   ]
  },
  {
   "cell_type": "markdown",
   "metadata": {},
   "source": [
    "## END"
   ]
  }
 ],
 "metadata": {
  "kernelspec": {
   "display_name": "arena",
   "language": "python",
   "name": "python3"
  },
  "language_info": {
   "codemirror_mode": {
    "name": "ipython",
    "version": 3
   },
   "file_extension": ".py",
   "mimetype": "text/x-python",
   "name": "python",
   "nbconvert_exporter": "python",
   "pygments_lexer": "ipython3",
   "version": "3.12.4"
  }
 },
 "nbformat": 4,
 "nbformat_minor": 2
}
